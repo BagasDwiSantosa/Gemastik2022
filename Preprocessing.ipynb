{
 "cells": [
  {
   "cell_type": "code",
   "execution_count": 109,
   "metadata": {},
   "outputs": [
    {
     "name": "stdout",
     "output_type": "stream",
     "text": [
      "537\n"
     ]
    },
    {
     "data": {
      "text/html": [
       "<div>\n",
       "<style scoped>\n",
       "    .dataframe tbody tr th:only-of-type {\n",
       "        vertical-align: middle;\n",
       "    }\n",
       "\n",
       "    .dataframe tbody tr th {\n",
       "        vertical-align: top;\n",
       "    }\n",
       "\n",
       "    .dataframe thead th {\n",
       "        text-align: right;\n",
       "    }\n",
       "</style>\n",
       "<table border=\"1\" class=\"dataframe\">\n",
       "  <thead>\n",
       "    <tr style=\"text-align: right;\">\n",
       "      <th></th>\n",
       "      <th>Datetime</th>\n",
       "      <th>Tweet Id</th>\n",
       "      <th>Text</th>\n",
       "      <th>Username</th>\n",
       "    </tr>\n",
       "  </thead>\n",
       "  <tbody>\n",
       "    <tr>\n",
       "      <th>0</th>\n",
       "      <td>2022-10-18 23:08:47+00:00</td>\n",
       "      <td>1582509025312153601</td>\n",
       "      <td>RT @indeksncom: Irjen Teddy Minahasa Mengaku P...</td>\n",
       "      <td>AntiNarkoba_com</td>\n",
       "    </tr>\n",
       "    <tr>\n",
       "      <th>1</th>\n",
       "      <td>2022-10-18 22:43:10+00:00</td>\n",
       "      <td>1582502575035027456</td>\n",
       "      <td>JADI TERSANGKA, INI 4 BANTAHAN TEDDY MINAHASA:...</td>\n",
       "      <td>tribunkaltim</td>\n",
       "    </tr>\n",
       "    <tr>\n",
       "      <th>2</th>\n",
       "      <td>2022-10-18 22:12:46+00:00</td>\n",
       "      <td>1582494927522783234</td>\n",
       "      <td>Irjen Teddy Minahasa Mengaku Pernah Ditipu Mam...</td>\n",
       "      <td>indeksncom</td>\n",
       "    </tr>\n",
       "    <tr>\n",
       "      <th>3</th>\n",
       "      <td>2022-10-18 21:32:02+00:00</td>\n",
       "      <td>1582484673992994823</td>\n",
       "      <td>Advokat Henry Yosdiningrat menjelaskan alasan ...</td>\n",
       "      <td>jpnncom</td>\n",
       "    </tr>\n",
       "    <tr>\n",
       "      <th>4</th>\n",
       "      <td>2022-10-18 17:49:31+00:00</td>\n",
       "      <td>1582428678218129410</td>\n",
       "      <td>#trikaryanews #teddyminahasa #polri #presisi #...</td>\n",
       "      <td>trikaryanews</td>\n",
       "    </tr>\n",
       "  </tbody>\n",
       "</table>\n",
       "</div>"
      ],
      "text/plain": [
       "                    Datetime             Tweet Id  \\\n",
       "0  2022-10-18 23:08:47+00:00  1582509025312153601   \n",
       "1  2022-10-18 22:43:10+00:00  1582502575035027456   \n",
       "2  2022-10-18 22:12:46+00:00  1582494927522783234   \n",
       "3  2022-10-18 21:32:02+00:00  1582484673992994823   \n",
       "4  2022-10-18 17:49:31+00:00  1582428678218129410   \n",
       "\n",
       "                                                Text         Username  \n",
       "0  RT @indeksncom: Irjen Teddy Minahasa Mengaku P...  AntiNarkoba_com  \n",
       "1  JADI TERSANGKA, INI 4 BANTAHAN TEDDY MINAHASA:...     tribunkaltim  \n",
       "2  Irjen Teddy Minahasa Mengaku Pernah Ditipu Mam...       indeksncom  \n",
       "3  Advokat Henry Yosdiningrat menjelaskan alasan ...          jpnncom  \n",
       "4  #trikaryanews #teddyminahasa #polri #presisi #...     trikaryanews  "
      ]
     },
     "execution_count": 109,
     "metadata": {},
     "output_type": "execute_result"
    }
   ],
   "source": [
    "# Read from CSV file.\n",
    "\n",
    "import pandas as pd\n",
    "\n",
    "df = pd.read_csv('D:\\GEMASTIK\\DATASET\\DATADONE\\TEDDYMINAHASA.csv')\n",
    "\n",
    "print(len(df.index))\n",
    "df.head()"
   ]
  },
  {
   "cell_type": "code",
   "execution_count": 45,
   "metadata": {},
   "outputs": [
    {
     "data": {
      "text/plain": [
       "(365, 4)"
      ]
     },
     "execution_count": 45,
     "metadata": {},
     "output_type": "execute_result"
    }
   ],
   "source": [
    "df.shape"
   ]
  },
  {
   "cell_type": "code",
   "execution_count": 110,
   "metadata": {},
   "outputs": [
    {
     "data": {
      "text/plain": [
       "0    : Irjen Teddy Minahasa Mengaku Pernah Ditipu M...\n",
       "1    JADI TERSANGKA, INI BANTAHAN TEDDY MINAHASA: I...\n",
       "2    Irjen Teddy Minahasa Mengaku Pernah Ditipu Mam...\n",
       "3    Advokat Henry Yosdiningrat menjelaskan alasan ...\n",
       "4                                                     \n",
       "Name: clean_text, dtype: object"
      ]
     },
     "execution_count": 110,
     "metadata": {},
     "output_type": "execute_result"
    }
   ],
   "source": [
    "# Preprocess tweets - remove @, # and links.\n",
    "\n",
    "import preprocessor as p\n",
    "\n",
    "df['clean_text'] = df['Text'].apply(lambda text: p.clean(str(text)))\n",
    "\n",
    "df['clean_text'].head()"
   ]
  },
  {
   "cell_type": "code",
   "execution_count": 111,
   "metadata": {},
   "outputs": [
    {
     "data": {
      "text/plain": [
       "0    : irjen teddy minahasa mengaku pernah ditipu m...\n",
       "1    jadi tersangka, ini bantahan teddy minahasa: i...\n",
       "2    irjen teddy minahasa mengaku pernah ditipu mam...\n",
       "3    advokat henry yosdiningrat menjelaskan alasan ...\n",
       "4                                                     \n",
       "Name: clean_text, dtype: object"
      ]
     },
     "execution_count": 111,
     "metadata": {},
     "output_type": "execute_result"
    }
   ],
   "source": [
    "# Convert to lowercase.\n",
    "\n",
    "df['clean_text'] = df['clean_text'].apply(lambda text: text.lower())\n",
    "\n",
    "df['clean_text'].head()"
   ]
  },
  {
   "cell_type": "code",
   "execution_count": 112,
   "metadata": {},
   "outputs": [
    {
     "data": {
      "text/plain": [
       "0    : irjen teddy minahasa mengaku pernah ditipu m...\n",
       "1    jadi tersangka, ini bantahan teddy minahasa: i...\n",
       "2    irjen teddy minahasa mengaku pernah ditipu mam...\n",
       "3    advokat henry yosdiningrat menjelaskan alasan ...\n",
       "4                                                     \n",
       "Name: clean_text, dtype: object"
      ]
     },
     "execution_count": 112,
     "metadata": {},
     "output_type": "execute_result"
    }
   ],
   "source": [
    "# Remove contractions.\n",
    "\n",
    "import re\n",
    "\n",
    "def remove_contractions(text):\n",
    "    text = re.sub(r'’', '\\'', text)\n",
    "    \n",
    "    text = re.sub(r'bkn', 'bukan', text)\n",
    "    # text = re.sub(r'.', '', text)\n",
    "    \n",
    "    # text = re.sub(r'\\'s', ' is', text)\n",
    "    # text = re.sub(r'\\'m', ' am', text)\n",
    "    # text = re.sub(r'\\'re', ' are', text)\n",
    "    # text = re.sub(r'\\'ve', ' have', text)\n",
    "    # text = re.sub(r'\\'ll', ' will', text)\n",
    "    # text = re.sub(r'\\'d', ' would', text)\n",
    "    # text = re.sub(r'\\'t', ' not', text)\n",
    "    # text = re.sub(r'n\\'t', ' not', text)\n",
    "    \n",
    "    return text\n",
    "\n",
    "df['clean_text'] = df['clean_text'].apply(remove_contractions)\n",
    "\n",
    "df['clean_text'].head()"
   ]
  },
  {
   "cell_type": "code",
   "execution_count": 113,
   "metadata": {},
   "outputs": [
    {
     "name": "stderr",
     "output_type": "stream",
     "text": [
      "C:\\Users\\asus Pc\\AppData\\Local\\Temp\\ipykernel_11792\\200408617.py:3: FutureWarning: The default value of regex will change from True to False in a future version.\n",
      "  df['clean_text'] = df['clean_text'].str.replace('[^\\w\\s]', '')\n"
     ]
    },
    {
     "data": {
      "text/plain": [
       "0     irjen teddy minahasa mengaku pernah ditipu ma...\n",
       "1    jadi tersangka ini bantahan teddy minahasa ing...\n",
       "2    irjen teddy minahasa mengaku pernah ditipu mam...\n",
       "3    advokat henry yosdiningrat menjelaskan alasan ...\n",
       "4                                                     \n",
       "Name: clean_text, dtype: object"
      ]
     },
     "execution_count": 113,
     "metadata": {},
     "output_type": "execute_result"
    }
   ],
   "source": [
    "# Remove punctuations.\n",
    "\n",
    "df['clean_text'] = df['clean_text'].str.replace('[^\\w\\s]', '')\n",
    "\n",
    "df['clean_text'].head()"
   ]
  },
  {
   "cell_type": "code",
   "execution_count": 114,
   "metadata": {},
   "outputs": [
    {
     "data": {
      "text/plain": [
       "0    irjen teddy minahasa mengaku pernah ditipu mam...\n",
       "1    jadi tersangka ini bantahan teddy minahasa ing...\n",
       "2    irjen teddy minahasa mengaku pernah ditipu mam...\n",
       "3    advokat henry yosdiningrat menjelaskan alasan ...\n",
       "4                                                     \n",
       "Name: clean_text, dtype: object"
      ]
     },
     "execution_count": 114,
     "metadata": {},
     "output_type": "execute_result"
    }
   ],
   "source": [
    "# Remove whitespaces.\n",
    "\n",
    "df['clean_text'] = df['clean_text'].apply(lambda text: str(text).strip())\n",
    "\n",
    "df['clean_text'].head()"
   ]
  },
  {
   "cell_type": "code",
   "execution_count": 115,
   "metadata": {},
   "outputs": [
    {
     "name": "stdout",
     "output_type": "stream",
     "text": [
      "518\n"
     ]
    },
    {
     "data": {
      "text/plain": [
       "0    irjen teddy minahasa mengaku pernah ditipu mam...\n",
       "1    jadi tersangka ini bantahan teddy minahasa ing...\n",
       "2    irjen teddy minahasa mengaku pernah ditipu mam...\n",
       "3    advokat henry yosdiningrat menjelaskan alasan ...\n",
       "5    perwira polisi yang menjadi tersangka kasus na...\n",
       "Name: clean_text, dtype: object"
      ]
     },
     "execution_count": 115,
     "metadata": {},
     "output_type": "execute_result"
    }
   ],
   "source": [
    "# Remove empty texts.\n",
    "\n",
    "df = df.drop(df[df['clean_text'] == ''].index)\n",
    "\n",
    "print(len(df.index))\n",
    "df['clean_text'].head()"
   ]
  },
  {
   "cell_type": "code",
   "execution_count": 116,
   "metadata": {},
   "outputs": [
    {
     "data": {
      "text/html": [
       "<div>\n",
       "<style scoped>\n",
       "    .dataframe tbody tr th:only-of-type {\n",
       "        vertical-align: middle;\n",
       "    }\n",
       "\n",
       "    .dataframe tbody tr th {\n",
       "        vertical-align: top;\n",
       "    }\n",
       "\n",
       "    .dataframe thead th {\n",
       "        text-align: right;\n",
       "    }\n",
       "</style>\n",
       "<table border=\"1\" class=\"dataframe\">\n",
       "  <thead>\n",
       "    <tr style=\"text-align: right;\">\n",
       "      <th></th>\n",
       "      <th>clean_text</th>\n",
       "      <th>Text</th>\n",
       "    </tr>\n",
       "  </thead>\n",
       "  <tbody>\n",
       "    <tr>\n",
       "      <th>0</th>\n",
       "      <td>irjen teddy minahasa mengaku pernah ditipu mam...</td>\n",
       "      <td>RT @indeksncom: Irjen Teddy Minahasa Mengaku P...</td>\n",
       "    </tr>\n",
       "    <tr>\n",
       "      <th>1</th>\n",
       "      <td>jadi tersangka ini bantahan teddy minahasa ing...</td>\n",
       "      <td>JADI TERSANGKA, INI 4 BANTAHAN TEDDY MINAHASA:...</td>\n",
       "    </tr>\n",
       "    <tr>\n",
       "      <th>2</th>\n",
       "      <td>irjen teddy minahasa mengaku pernah ditipu mam...</td>\n",
       "      <td>Irjen Teddy Minahasa Mengaku Pernah Ditipu Mam...</td>\n",
       "    </tr>\n",
       "    <tr>\n",
       "      <th>3</th>\n",
       "      <td>advokat henry yosdiningrat menjelaskan alasan ...</td>\n",
       "      <td>Advokat Henry Yosdiningrat menjelaskan alasan ...</td>\n",
       "    </tr>\n",
       "    <tr>\n",
       "      <th>5</th>\n",
       "      <td>perwira polisi yang menjadi tersangka kasus na...</td>\n",
       "      <td>Perwira polisi yang menjadi tersangka kasus na...</td>\n",
       "    </tr>\n",
       "    <tr>\n",
       "      <th>...</th>\n",
       "      <td>...</td>\n",
       "      <td>...</td>\n",
       "    </tr>\n",
       "    <tr>\n",
       "      <th>532</th>\n",
       "      <td>kapolri jenderal listyo sigit prabowo memutasi...</td>\n",
       "      <td>Kapolri Jenderal Listyo Sigit Prabowo memutasi...</td>\n",
       "    </tr>\n",
       "    <tr>\n",
       "      <th>533</th>\n",
       "      <td>selamat hari kesaktian pancasila1 oktober kepa...</td>\n",
       "      <td>#Repost  #spripimpoldasumbar \\n\\nSelamat Hari ...</td>\n",
       "    </tr>\n",
       "    <tr>\n",
       "      <th>534</th>\n",
       "      <td>profil irjen teddy minahasa putra polisi terka...</td>\n",
       "      <td>Profil Irjen Teddy Minahasa Putra, polisi terk...</td>\n",
       "    </tr>\n",
       "    <tr>\n",
       "      <th>535</th>\n",
       "      <td>gebyar di meriah</td>\n",
       "      <td>Gebyar #SUMDARSIN di #Dharmasraya Meriah https...</td>\n",
       "    </tr>\n",
       "    <tr>\n",
       "      <th>536</th>\n",
       "      <td>dan doa slalu untuk mantan kapolda banten irje...</td>\n",
       "      <td>#UngkapMafiaJudiDanHukum\\n\\nSemangat dan doa s...</td>\n",
       "    </tr>\n",
       "  </tbody>\n",
       "</table>\n",
       "<p>518 rows × 2 columns</p>\n",
       "</div>"
      ],
      "text/plain": [
       "                                            clean_text  \\\n",
       "0    irjen teddy minahasa mengaku pernah ditipu mam...   \n",
       "1    jadi tersangka ini bantahan teddy minahasa ing...   \n",
       "2    irjen teddy minahasa mengaku pernah ditipu mam...   \n",
       "3    advokat henry yosdiningrat menjelaskan alasan ...   \n",
       "5    perwira polisi yang menjadi tersangka kasus na...   \n",
       "..                                                 ...   \n",
       "532  kapolri jenderal listyo sigit prabowo memutasi...   \n",
       "533  selamat hari kesaktian pancasila1 oktober kepa...   \n",
       "534  profil irjen teddy minahasa putra polisi terka...   \n",
       "535                                   gebyar di meriah   \n",
       "536  dan doa slalu untuk mantan kapolda banten irje...   \n",
       "\n",
       "                                                  Text  \n",
       "0    RT @indeksncom: Irjen Teddy Minahasa Mengaku P...  \n",
       "1    JADI TERSANGKA, INI 4 BANTAHAN TEDDY MINAHASA:...  \n",
       "2    Irjen Teddy Minahasa Mengaku Pernah Ditipu Mam...  \n",
       "3    Advokat Henry Yosdiningrat menjelaskan alasan ...  \n",
       "5    Perwira polisi yang menjadi tersangka kasus na...  \n",
       "..                                                 ...  \n",
       "532  Kapolri Jenderal Listyo Sigit Prabowo memutasi...  \n",
       "533  #Repost  #spripimpoldasumbar \\n\\nSelamat Hari ...  \n",
       "534  Profil Irjen Teddy Minahasa Putra, polisi terk...  \n",
       "535  Gebyar #SUMDARSIN di #Dharmasraya Meriah https...  \n",
       "536  #UngkapMafiaJudiDanHukum\\n\\nSemangat dan doa s...  \n",
       "\n",
       "[518 rows x 2 columns]"
      ]
     },
     "execution_count": 116,
     "metadata": {},
     "output_type": "execute_result"
    }
   ],
   "source": [
    "df[['clean_text','Text']]"
   ]
  },
  {
   "cell_type": "code",
   "execution_count": 108,
   "metadata": {},
   "outputs": [],
   "source": [
    "\n",
    "\n",
    "\n",
    "df['clean_text'].to_csv(\"TEDDYMINAHASA1.csv\", index=False)"
   ]
  }
 ],
 "metadata": {
  "interpreter": {
   "hash": "ed125edc281ab0feca5c40f7784a3fea819b3bc9bea49ab974f7cb05f3b9b9ee"
  },
  "kernelspec": {
   "display_name": "Python 3.10.5 64-bit (windows store)",
   "language": "python",
   "name": "python3"
  },
  "language_info": {
   "codemirror_mode": {
    "name": "ipython",
    "version": 3
   },
   "file_extension": ".py",
   "mimetype": "text/x-python",
   "name": "python",
   "nbconvert_exporter": "python",
   "pygments_lexer": "ipython3",
   "version": "3.10.8"
  },
  "orig_nbformat": 4
 },
 "nbformat": 4,
 "nbformat_minor": 2
}
